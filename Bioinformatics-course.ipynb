{
  "cells": [
    {
      "cell_type": "markdown",
      "metadata": {
        "id": "q5K9sTeb7pT4"
      },
      "source": [
        "# DuCaPHEN HERA SARS-CoV-2 Bioinformatics workshop\n",
        "\n",
        "Hi!\n",
        "\n",
        "Welcome to the hands-on course part of the HERA bioinformatics workshop.\n",
        "\n",
        "\n",
        "Once a block of code is finished with running, a small green checkmark will appear left next to the play-button."
      ]
    },
    {
      "cell_type": "markdown",
      "metadata": {
        "id": "JlmE3wMdM_bc"
      },
      "source": [
        "---\n",
        "### About the data that you will be analyzing\n",
        "In this hands-on workshop you will *each* be processing 3 samples of a larger SARS-CoV-2 outbreak on Bonaire that happened near the end of 2022.\n",
        "\n",
        "\n",
        "<!-- ---\n",
        "### About the dataset(s)\n",
        "The data that is analyzed throughout this course is publicly accessible data downloaded from the ENA (European Nucleotide Archive).  \n",
        "The data that will be processed are raw FastQ reads both from an Illumina MiSeq sequencer as well as a Nanopore GridIon sequencer.  \n",
        "The following Illumina dataset will be used:\n",
        "https://www.ebi.ac.uk/ena/browser/view/ERR4082808?show=reads  \n",
        "And the following Nanopore dataset will be used: https://www.ebi.ac.uk/ena/browser/view/ERR9900947?show=reads  \n",
        "\n",
        "### About the analysis steps in this course\n",
        "\n",
        "The analysis steps in this course are tailored for the analysis of SARS-CoV-2.  \n",
        "These steps are based on the **SARS2seq** pipeline which is used for SARS-CoV-2 analysis within the RIVM. These various steps *can* be used to analyse other viruses as well, but success is not guaranteed.  \n",
        "\n",
        " -->\n"
      ]
    },
    {
      "cell_type": "markdown",
      "metadata": {
        "id": "Ok5vRnFpZ_OI"
      },
      "source": [
        "## Table of contents\n",
        "\n",
        "1. Check if all your inputs are complete\n",
        "2. Generate consensus genomes with the ViroConstrictor pipeline\n",
        "3. Performing manual curation"
      ]
    },
    {
      "cell_type": "markdown",
      "metadata": {
        "id": "O2yVf3BatvPS"
      },
      "source": [
        "# 1. Check if all your inputs are complete"
      ]
    },
    {
      "cell_type": "markdown",
      "metadata": {
        "id": "kwlVA4aZjBzZ"
      },
      "source": [
        "Before you start with analyzing data, it is a good and often necessary practice to actually check if everything that you need is present.\n",
        "\n",
        "You can press `Ctrl+B` on your keyboard to show or hide the directory and file structure that you will be working with. If you don't see any files on the left-hand side of your screen please press this button now.\n",
        "\n",
        "When you can see the files please take a moment to ensure you have the following items ready:\n",
        "\n",
        "##### Required files\n",
        "\n",
        "* FastQ files  \n",
        "  FastQ is the most common raw sequencing data format.  \n",
        "  Within your file structure, you should have a folder called \"input_files\", within there should be 3 files named as `sample_x.fastq.gz`  \n",
        "* A reference genome  \n",
        "  To analyze the raw data and to create a consensus-genome it will be required to provide a reference genome to the software.  \n",
        "  This file is named \"sars_cov_2_reference.fasta\" and should be present in the \"resources\" directory.\n",
        "* Primer files  \n",
        "  The data that will be analyzed is created with an amplification protocol, this means that primers (artificial pieces of DNA) were used during the sequencing protocol. For accurate processing it is now important that these pieces of artifical DNA will be removed. This information is provided through something that is called a BED file. There will be two primer files during this excercise.\n",
        "  These files are named \"articv3.bed\" and \"articv4.bed\", both of these files should be present in the \"resources\" directory.\n",
        "\n",
        "##### Optional (but helpful files)\n",
        "\n",
        "* A genomic features file  \n",
        "  To help the accuracy of the analysis tools, we can provide something called a genomic features file (GFF) to the analysis-toolset. This file corresponds to the earlier described reference genome and contains information such as open reading frames, gene positions and protein properties.  \n",
        "  This file is named \"sars_cov_2_features.gff\" and should be present in the \"resources\" directory.\n",
        "\n",
        "### Why is this Important?\n",
        "\n",
        "Having all necessary files in the correct formats and in an organized manner ensures a smooth analysis process. It minimizes potential errors and delays, allowing you to focus on interpreting your results.\n",
        "\n",
        "If you have any questions about file preparation, please don't hesitate to ask before we begin the analysis section of the course.\n"
      ]
    },
    {
      "cell_type": "markdown",
      "metadata": {
        "id": "4mdhoST_S2qp"
      },
      "source": [
        "# 2. Generate consensus genomes with the ViroConstrictor pipeline\n",
        "\n",
        "When you're sure that you have all the necessary files, then you can move on to actually analyzing the data. In this workshop we'll be using the ViroConstrictor pipeline to process the raw FastQ data and create consensus-genomes from this data.  \n",
        "ViroConstrictor is a data-processing pipeline designed specifically for the analysis and consensus-genome generation of viral-sequencing data. \n",
        "\n",
        "Please find the documentation for ViroConstrictor [here](https://rivm-bioinformatics.github.io/ViroConstrictor/latest/manual/#run-a-single-target-analysis)\n",
        "\n",
        "The base command is already typed out below, however the actual run-information still needs to be provided.\n",
        "The information needs to be filled in for each section that says `<[your input here]>` and will be provided by the guiding presentation.\n",
        "\n",
        "The analysis itself should take about 10 minutes to complete."
      ]
    },
    {
      "cell_type": "code",
      "execution_count": null,
      "metadata": {
        "id": "wrfu8TJjsDYL"
      },
      "outputs": [],
      "source": [
        "%%bash\n",
        "source activate pipeline_env\n",
        "\n",
        "viroconstrictor -i input_files/ -o pipeline_output \\\n",
        "    --platform <[your input here]> \\\n",
        "    --amplicon-type end-to-end \\\n",
        "    --reference <[your input here]> \\\n",
        "    --primers <[your input here]> \\\n",
        "    --features <[your input here]> \\\n",
        "    --min-coverage <[your input here]> \\\n",
        "    --target <[your input here]>"
      ]
    },
    {
      "cell_type": "code",
      "execution_count": null,
      "metadata": {},
      "outputs": [],
      "source": [
        "##backup command, only to be used by instructor\n",
        "%%bash\n",
        "source activate pipeline_env\n",
        "\n",
        "viroconstrictor -i input_files/ -o pipeline_output      \\\n",
        "    --platform nanopore                                 \\\n",
        "    --amplicon-type end-to-end                          \\\n",
        "    --reference ./resources/sars_cov_2_reference.fasta  \\\n",
        "    --primers resources/articv4.bed                     \\\n",
        "    --features resources/sars_cov_2_features.gff        \\\n",
        "    --min-coverage 50                                   \\\n",
        "    --target sars-cov-2"
      ]
    },
    {
      "cell_type": "markdown",
      "metadata": {
        "id": "gANzZ3My1hWx"
      },
      "source": [
        "# 3. Check the quality control reports\n",
        "\n",
        "Once the ViroConstrictor pipeline is done with processing the data, we should check if everything in the analysis went accordingly.\n",
        "\n"
      ]
    },
    {
      "cell_type": "code",
      "execution_count": null,
      "metadata": {},
      "outputs": [],
      "source": [
        "# <-- Click here to open a browser window and view the quality control report\n",
        "!`cmd.exe /C start msedge.exe file://wsl.localhost/Ubuntu/$(realpath pipeline_output/results/multiqc.html) >> /dev/null 2>&1`"
      ]
    },
    {
      "cell_type": "markdown",
      "metadata": {},
      "source": [
        "# 4. Check the alignment files with IGV"
      ]
    },
    {
      "cell_type": "code",
      "execution_count": null,
      "metadata": {},
      "outputs": [],
      "source": [
        "# <-- Click here to open the IGV alignment viewer to check the alignments\n",
        "!source activate pipeline_env; igv -g resources/sars_cov_2_reference.fasta pipeline_output/data/Virus\\~sars-cov-2/RefID\\~MN908947.3/alignment/bam-files/sample_*.bam pipeline_output/data/Virus\\~sars-cov-2/RefID\\~MN908947.3/primers/sample_*_removedprimers.bed -l MN908947.3:12,421-14,775 >> /dev/null 2>&1"
      ]
    },
    {
      "cell_type": "markdown",
      "metadata": {
        "id": "RstREyncoNZD"
      },
      "source": [
        "# 5. Check the consensus validity with NextClade\n",
        "\n",
        "Now that the consensus sequence is generated from both the Illumina and Nanopore data we have to perform a manual curation step to see if everything that we have done resulted in a proper consensus genome.  \n",
        "\n",
        "You can download the generated consensus sequences from this environment to your own computer and use a web-based tool such as [NextClade](https://clades.nextstrain.org/) to see how the generated consensus genome turned out."
      ]
    },
    {
      "cell_type": "code",
      "execution_count": null,
      "metadata": {},
      "outputs": [],
      "source": [
        "# <-- Click here to open the file explorer to view the output files\n",
        "import warnings\n",
        "import subprocess\n",
        "with warnings.catch_warnings():\n",
        "    warnings.simplefilter(\"ignore\")\n",
        "    subprocess.run(\"explorer.exe .\", shell=True, stdout=None, stderr=None)"
      ]
    }
  ],
  "metadata": {
    "colab": {
      "name": "HERA Bioinformatics course",
      "provenance": []
    },
    "kernelspec": {
      "display_name": "Python 3.8.12 ('HERA')",
      "language": "python",
      "name": "python3"
    },
    "language_info": {
      "codemirror_mode": {
        "name": "ipython",
        "version": 3
      },
      "file_extension": ".py",
      "mimetype": "text/x-python",
      "name": "python",
      "nbconvert_exporter": "python",
      "pygments_lexer": "ipython3",
      "version": "3.10.12"
    },
    "orig_nbformat": 4,
    "vscode": {
      "interpreter": {
        "hash": "470232b6a74107a445b11dc50501137af5b83a444a2761aebd339f2fc674b0dd"
      }
    }
  },
  "nbformat": 4,
  "nbformat_minor": 0
}
